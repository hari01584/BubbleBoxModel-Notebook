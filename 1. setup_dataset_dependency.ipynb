{
 "cells": [
  {
   "cell_type": "markdown",
   "metadata": {},
   "source": [
    "# Setup Raw Dataset (from Kaggle)"
   ]
  },
  {
   "cell_type": "markdown",
   "metadata": {},
   "source": [
    "### Download data\n",
    "_Install opendatasets for kaggle download api_"
   ]
  },
  {
   "cell_type": "code",
   "execution_count": 4,
   "metadata": {},
   "outputs": [
    {
     "name": "stdout",
     "output_type": "stream",
     "text": [
      "Collecting opendatasets\n",
      "  Downloading opendatasets-0.1.20-py3-none-any.whl (14 kB)\n",
      "Requirement already satisfied: click in c:\\users\\hari0\\.conda\\envs\\tensorflow\\lib\\site-packages (from opendatasets) (8.0.3)\n",
      "Requirement already satisfied: tqdm in c:\\users\\hari0\\.conda\\envs\\tensorflow\\lib\\site-packages (from opendatasets) (4.62.3)\n",
      "Requirement already satisfied: kaggle in c:\\users\\hari0\\.conda\\envs\\tensorflow\\lib\\site-packages (from opendatasets) (1.5.12)\n",
      "Requirement already satisfied: colorama in c:\\users\\hari0\\.conda\\envs\\tensorflow\\lib\\site-packages (from click->opendatasets) (0.4.4)\n",
      "Requirement already satisfied: certifi in c:\\users\\hari0\\.conda\\envs\\tensorflow\\lib\\site-packages (from kaggle->opendatasets) (2021.10.8)\n",
      "Requirement already satisfied: urllib3 in c:\\users\\hari0\\.conda\\envs\\tensorflow\\lib\\site-packages (from kaggle->opendatasets) (1.26.8)\n",
      "Requirement already satisfied: requests in c:\\users\\hari0\\appdata\\roaming\\python\\python39\\site-packages (from kaggle->opendatasets) (2.26.0)\n",
      "Requirement already satisfied: six>=1.10 in c:\\users\\hari0\\appdata\\roaming\\python\\python39\\site-packages (from kaggle->opendatasets) (1.15.0)\n",
      "Requirement already satisfied: python-slugify in c:\\users\\hari0\\.conda\\envs\\tensorflow\\lib\\site-packages (from kaggle->opendatasets) (5.0.2)\n",
      "Requirement already satisfied: python-dateutil in c:\\users\\hari0\\.conda\\envs\\tensorflow\\lib\\site-packages (from kaggle->opendatasets) (2.8.2)\n",
      "Requirement already satisfied: text-unidecode>=1.3 in c:\\users\\hari0\\.conda\\envs\\tensorflow\\lib\\site-packages (from python-slugify->kaggle->opendatasets) (1.3)\n",
      "Requirement already satisfied: charset-normalizer~=2.0.0 in c:\\users\\hari0\\.conda\\envs\\tensorflow\\lib\\site-packages (from requests->kaggle->opendatasets) (2.0.4)\n",
      "Requirement already satisfied: idna<4,>=2.5 in c:\\users\\hari0\\.conda\\envs\\tensorflow\\lib\\site-packages (from requests->kaggle->opendatasets) (3.3)\n",
      "Installing collected packages: opendatasets\n",
      "Successfully installed opendatasets-0.1.20\n",
      "Note: you may need to restart the kernel to use updated packages.\n"
     ]
    }
   ],
   "source": [
    "pip install opendatasets"
   ]
  },
  {
   "cell_type": "markdown",
   "metadata": {},
   "source": [
    "\n",
    "_Download dataset from kaggle._ (please follow instructions to get your kaggle username and key for download"
   ]
  },
  {
   "cell_type": "code",
   "execution_count": 7,
   "metadata": {},
   "outputs": [
    {
     "name": "stdout",
     "output_type": "stream",
     "text": [
      "Please provide your Kaggle credentials to download this dataset. Learn more: http://bit.ly/kaggle-creds\n",
      "Your Kaggle username:"
     ]
    },
    {
     "name": "stdin",
     "output_type": "stream",
     "text": [
      "  mrviolet\n"
     ]
    },
    {
     "name": "stdout",
     "output_type": "stream",
     "text": [
      "Your Kaggle Key:"
     ]
    },
    {
     "name": "stdin",
     "output_type": "stream",
     "text": [
      "  ································\n"
     ]
    },
    {
     "name": "stdout",
     "output_type": "stream",
     "text": [
      "Downloading manga-panels-dataset-817-mangas.zip to .\\manga-panels-dataset-817-mangas\n"
     ]
    },
    {
     "name": "stderr",
     "output_type": "stream",
     "text": [
      "100%|█████████████████████████████████████████████████████████████████████████████| 6.43G/6.43G [12:42<00:00, 9.05MB/s]\n"
     ]
    },
    {
     "name": "stdout",
     "output_type": "stream",
     "text": [
      "\n"
     ]
    }
   ],
   "source": [
    "import opendatasets as od\n",
    "od.download(\"https://www.kaggle.com/mrviolet/manga-panels-dataset-817-mangas\")"
   ]
  },
  {
   "cell_type": "markdown",
   "metadata": {},
   "source": [
    "_Rename and copy dataset directory_"
   ]
  },
  {
   "cell_type": "code",
   "execution_count": 9,
   "metadata": {},
   "outputs": [
    {
     "name": "stderr",
     "output_type": "stream",
     "text": [
      "100%|████████████████████████████████████████████████████████████████████████████████| 816/816 [06:37<00:00,  2.05it/s]\n"
     ]
    }
   ],
   "source": [
    "import os, shutil\n",
    "from tqdm import tqdm\n",
    "\n",
    "def copytree(src, dst, symlinks=False, ignore=None):\n",
    "    for item in tqdm(os.listdir(src)):\n",
    "        s = os.path.join(src, item)\n",
    "        d = os.path.join(dst, item)\n",
    "        if os.path.isdir(s):\n",
    "            shutil.copytree(s, d, symlinks, ignore)\n",
    "        else:\n",
    "            shutil.copy2(s, d)\n",
    "\n",
    "copytree(\"./manga-panels-dataset-817-mangas/dataset/\", \"./dataset-raw\")"
   ]
  },
  {
   "cell_type": "markdown",
   "metadata": {},
   "source": [
    "#### Install useful required modules"
   ]
  },
  {
   "cell_type": "code",
   "execution_count": 4,
   "metadata": {},
   "outputs": [
    {
     "name": "stdout",
     "output_type": "stream",
     "text": [
      "Requirement already satisfied: opencv-python in c:\\users\\hari0\\.conda\\envs\\tensorflow\\lib\\site-packages (4.5.5.62)\n",
      "Collecting pandas\n",
      "  Downloading pandas-1.4.0-cp39-cp39-win_amd64.whl (10.5 MB)\n",
      "Requirement already satisfied: numpy>=1.17.3 in c:\\users\\hari0\\appdata\\roaming\\python\\python39\\site-packages (from opencv-python) (1.19.5)\n",
      "Collecting pytz>=2020.1\n",
      "  Using cached pytz-2021.3-py2.py3-none-any.whl (503 kB)\n",
      "Requirement already satisfied: python-dateutil>=2.8.1 in c:\\users\\hari0\\.conda\\envs\\tensorflow\\lib\\site-packages (from pandas) (2.8.2)\n",
      "Requirement already satisfied: six>=1.5 in c:\\users\\hari0\\appdata\\roaming\\python\\python39\\site-packages (from python-dateutil>=2.8.1->pandas) (1.15.0)\n",
      "Installing collected packages: pytz, pandas\n",
      "Successfully installed pandas-1.4.0 pytz-2021.3\n",
      "Note: you may need to restart the kernel to use updated packages.\n"
     ]
    }
   ],
   "source": [
    "pip install opencv-python pandas"
   ]
  },
  {
   "cell_type": "code",
   "execution_count": 26,
   "metadata": {},
   "outputs": [
    {
     "name": "stdout",
     "output_type": "stream",
     "text": [
      "Requirement already satisfied: pascal-voc-writer in c:\\users\\hari0\\.conda\\envs\\tensorflow\\lib\\site-packages (0.1.4)\n",
      "Requirement already satisfied: jinja2 in c:\\users\\hari0\\.conda\\envs\\tensorflow\\lib\\site-packages (from pascal-voc-writer) (3.0.3)\n",
      "Requirement already satisfied: MarkupSafe>=2.0 in c:\\users\\hari0\\.conda\\envs\\tensorflow\\lib\\site-packages (from jinja2->pascal-voc-writer) (2.0.1)\n",
      "Note: you may need to restart the kernel to use updated packages.\n"
     ]
    }
   ],
   "source": [
    "pip install pascal-voc-writer"
   ]
  },
  {
   "cell_type": "code",
   "execution_count": 3,
   "metadata": {},
   "outputs": [
    {
     "name": "stdout",
     "output_type": "stream",
     "text": [
      "Requirement already satisfied: tensorflow-object-detection-api in c:\\users\\hari0\\.conda\\envs\\tensorflow\\lib\\site-packages (0.1.1)Note: you may need to restart the kernel to use updated packages.\n",
      "\n",
      "Requirement already satisfied: Matplotlib>=2.1 in c:\\users\\hari0\\.conda\\envs\\tensorflow\\lib\\site-packages (from tensorflow-object-detection-api) (3.5.1)\n",
      "Requirement already satisfied: Cython>=0.28.1 in c:\\users\\hari0\\.conda\\envs\\tensorflow\\lib\\site-packages (from tensorflow-object-detection-api) (0.29.27)\n",
      "Requirement already satisfied: Protobuf in c:\\users\\hari0\\appdata\\roaming\\python\\python39\\site-packages (from tensorflow-object-detection-api) (3.18.1)\n",
      "Requirement already satisfied: Pillow>=1.0 in c:\\users\\hari0\\.conda\\envs\\tensorflow\\lib\\site-packages (from tensorflow-object-detection-api) (9.0.1)\n",
      "Requirement already satisfied: contextlib2 in c:\\users\\hari0\\.conda\\envs\\tensorflow\\lib\\site-packages (from tensorflow-object-detection-api) (21.6.0)\n",
      "Requirement already satisfied: wheel in c:\\users\\hari0\\appdata\\roaming\\python\\python39\\site-packages (from tensorflow-object-detection-api) (0.37.0)\n",
      "Requirement already satisfied: tensorflow in c:\\users\\hari0\\.conda\\envs\\tensorflow\\lib\\site-packages (from tensorflow-object-detection-api) (2.6.0)\n",
      "Requirement already satisfied: lxml in c:\\users\\hari0\\.conda\\envs\\tensorflow\\lib\\site-packages (from tensorflow-object-detection-api) (4.7.1)\n",
      "Requirement already satisfied: jupyter in c:\\users\\hari0\\.conda\\envs\\tensorflow\\lib\\site-packages (from tensorflow-object-detection-api) (1.0.0)\n",
      "Requirement already satisfied: twine in c:\\users\\hari0\\.conda\\envs\\tensorflow\\lib\\site-packages (from tensorflow-object-detection-api) (3.8.0)\n",
      "Requirement already satisfied: packaging>=20.0 in c:\\users\\hari0\\.conda\\envs\\tensorflow\\lib\\site-packages (from Matplotlib>=2.1->tensorflow-object-detection-api) (21.3)\n",
      "Requirement already satisfied: numpy>=1.17 in c:\\users\\hari0\\appdata\\roaming\\python\\python39\\site-packages (from Matplotlib>=2.1->tensorflow-object-detection-api) (1.19.5)\n",
      "Requirement already satisfied: pyparsing>=2.2.1 in c:\\users\\hari0\\.conda\\envs\\tensorflow\\lib\\site-packages (from Matplotlib>=2.1->tensorflow-object-detection-api) (3.0.7)\n",
      "Requirement already satisfied: kiwisolver>=1.0.1 in c:\\users\\hari0\\.conda\\envs\\tensorflow\\lib\\site-packages (from Matplotlib>=2.1->tensorflow-object-detection-api) (1.3.2)\n",
      "Requirement already satisfied: cycler>=0.10 in c:\\users\\hari0\\.conda\\envs\\tensorflow\\lib\\site-packages (from Matplotlib>=2.1->tensorflow-object-detection-api) (0.11.0)\n",
      "Requirement already satisfied: fonttools>=4.22.0 in c:\\users\\hari0\\.conda\\envs\\tensorflow\\lib\\site-packages (from Matplotlib>=2.1->tensorflow-object-detection-api) (4.29.1)\n",
      "Requirement already satisfied: python-dateutil>=2.7 in c:\\users\\hari0\\.conda\\envs\\tensorflow\\lib\\site-packages (from Matplotlib>=2.1->tensorflow-object-detection-api) (2.8.2)\n",
      "Requirement already satisfied: six>=1.5 in c:\\users\\hari0\\appdata\\roaming\\python\\python39\\site-packages (from python-dateutil>=2.7->Matplotlib>=2.1->tensorflow-object-detection-api) (1.15.0)\n",
      "Requirement already satisfied: notebook in c:\\users\\hari0\\.conda\\envs\\tensorflow\\lib\\site-packages (from jupyter->tensorflow-object-detection-api) (6.4.8)\n",
      "Requirement already satisfied: ipywidgets in c:\\users\\hari0\\.conda\\envs\\tensorflow\\lib\\site-packages (from jupyter->tensorflow-object-detection-api) (7.6.5)\n",
      "Requirement already satisfied: qtconsole in c:\\users\\hari0\\.conda\\envs\\tensorflow\\lib\\site-packages (from jupyter->tensorflow-object-detection-api) (5.2.2)\n",
      "Requirement already satisfied: ipykernel in c:\\users\\hari0\\appdata\\roaming\\python\\python39\\site-packages (from jupyter->tensorflow-object-detection-api) (6.7.0)\n",
      "Requirement already satisfied: nbconvert in c:\\users\\hari0\\.conda\\envs\\tensorflow\\lib\\site-packages (from jupyter->tensorflow-object-detection-api) (6.4.2)\n",
      "Requirement already satisfied: jupyter-console in c:\\users\\hari0\\.conda\\envs\\tensorflow\\lib\\site-packages (from jupyter->tensorflow-object-detection-api) (6.4.0)\n",
      "Requirement already satisfied: matplotlib-inline<0.2.0,>=0.1.0 in c:\\users\\hari0\\appdata\\roaming\\python\\python39\\site-packages (from ipykernel->jupyter->tensorflow-object-detection-api) (0.1.3)\n",
      "Requirement already satisfied: traitlets<6.0,>=5.1.0 in c:\\users\\hari0\\.conda\\envs\\tensorflow\\lib\\site-packages (from ipykernel->jupyter->tensorflow-object-detection-api) (5.1.1)\n",
      "Requirement already satisfied: jupyter-client<8.0 in c:\\users\\hari0\\appdata\\roaming\\python\\python39\\site-packages (from ipykernel->jupyter->tensorflow-object-detection-api) (7.1.0)\n",
      "Requirement already satisfied: ipython>=7.23.1 in c:\\users\\hari0\\appdata\\roaming\\python\\python39\\site-packages (from ipykernel->jupyter->tensorflow-object-detection-api) (8.0.0)\n",
      "Requirement already satisfied: tornado<7.0,>=4.2 in c:\\users\\hari0\\.conda\\envs\\tensorflow\\lib\\site-packages (from ipykernel->jupyter->tensorflow-object-detection-api) (6.1)\n",
      "Requirement already satisfied: nest-asyncio in c:\\users\\hari0\\.conda\\envs\\tensorflow\\lib\\site-packages (from ipykernel->jupyter->tensorflow-object-detection-api) (1.5.4)\n",
      "Requirement already satisfied: debugpy<2.0,>=1.0.0 in c:\\users\\hari0\\appdata\\roaming\\python\\python39\\site-packages (from ipykernel->jupyter->tensorflow-object-detection-api) (1.5.1)\n",
      "Requirement already satisfied: setuptools>=18.5 in c:\\users\\hari0\\.conda\\envs\\tensorflow\\lib\\site-packages (from ipython>=7.23.1->ipykernel->jupyter->tensorflow-object-detection-api) (58.0.4)\n",
      "Requirement already satisfied: pygments in c:\\users\\hari0\\.conda\\envs\\tensorflow\\lib\\site-packages (from ipython>=7.23.1->ipykernel->jupyter->tensorflow-object-detection-api) (2.11.2)\n",
      "Requirement already satisfied: black in c:\\users\\hari0\\appdata\\roaming\\python\\python39\\site-packages (from ipython>=7.23.1->ipykernel->jupyter->tensorflow-object-detection-api) (21.12b0)\n",
      "Requirement already satisfied: jedi>=0.16 in c:\\users\\hari0\\appdata\\roaming\\python\\python39\\site-packages (from ipython>=7.23.1->ipykernel->jupyter->tensorflow-object-detection-api) (0.18.1)\n",
      "Requirement already satisfied: decorator in c:\\users\\hari0\\appdata\\roaming\\python\\python39\\site-packages (from ipython>=7.23.1->ipykernel->jupyter->tensorflow-object-detection-api) (5.1.1)\n",
      "Requirement already satisfied: stack-data in c:\\users\\hari0\\.conda\\envs\\tensorflow\\lib\\site-packages (from ipython>=7.23.1->ipykernel->jupyter->tensorflow-object-detection-api) (0.1.4)\n",
      "Requirement already satisfied: prompt-toolkit!=3.0.0,!=3.0.1,<3.1.0,>=2.0.0 in c:\\users\\hari0\\appdata\\roaming\\python\\python39\\site-packages (from ipython>=7.23.1->ipykernel->jupyter->tensorflow-object-detection-api) (3.0.24)\n",
      "Requirement already satisfied: pickleshare in c:\\users\\hari0\\appdata\\roaming\\python\\python39\\site-packages (from ipython>=7.23.1->ipykernel->jupyter->tensorflow-object-detection-api) (0.7.5)\n",
      "Requirement already satisfied: backcall in c:\\users\\hari0\\appdata\\roaming\\python\\python39\\site-packages (from ipython>=7.23.1->ipykernel->jupyter->tensorflow-object-detection-api) (0.2.0)\n",
      "Requirement already satisfied: colorama in c:\\users\\hari0\\.conda\\envs\\tensorflow\\lib\\site-packages (from ipython>=7.23.1->ipykernel->jupyter->tensorflow-object-detection-api) (0.4.4)\n",
      "Requirement already satisfied: parso<0.9.0,>=0.8.0 in c:\\users\\hari0\\.conda\\envs\\tensorflow\\lib\\site-packages (from jedi>=0.16->ipython>=7.23.1->ipykernel->jupyter->tensorflow-object-detection-api) (0.8.3)\n",
      "Requirement already satisfied: pyzmq>=13 in c:\\users\\hari0\\.conda\\envs\\tensorflow\\lib\\site-packages (from jupyter-client<8.0->ipykernel->jupyter->tensorflow-object-detection-api) (22.3.0)\n",
      "Requirement already satisfied: jupyter-core>=4.6.0 in c:\\users\\hari0\\.conda\\envs\\tensorflow\\lib\\site-packages (from jupyter-client<8.0->ipykernel->jupyter->tensorflow-object-detection-api) (4.9.1)\n",
      "Requirement already satisfied: entrypoints in c:\\users\\hari0\\appdata\\roaming\\python\\python39\\site-packages (from jupyter-client<8.0->ipykernel->jupyter->tensorflow-object-detection-api) (0.3)\n",
      "Requirement already satisfied: pywin32>=1.0 in c:\\users\\hari0\\.conda\\envs\\tensorflow\\lib\\site-packages (from jupyter-core>=4.6.0->jupyter-client<8.0->ipykernel->jupyter->tensorflow-object-detection-api) (303)\n",
      "Requirement already satisfied: wcwidth in c:\\users\\hari0\\.conda\\envs\\tensorflow\\lib\\site-packages (from prompt-toolkit!=3.0.0,!=3.0.1,<3.1.0,>=2.0.0->ipython>=7.23.1->ipykernel->jupyter->tensorflow-object-detection-api) (0.2.5)\n",
      "Requirement already satisfied: pathspec<1,>=0.9.0 in c:\\users\\hari0\\.conda\\envs\\tensorflow\\lib\\site-packages (from black->ipython>=7.23.1->ipykernel->jupyter->tensorflow-object-detection-api) (0.9.0)\n",
      "Requirement already satisfied: platformdirs>=2 in c:\\users\\hari0\\.conda\\envs\\tensorflow\\lib\\site-packages (from black->ipython>=7.23.1->ipykernel->jupyter->tensorflow-object-detection-api) (2.5.0)\n",
      "Requirement already satisfied: mypy-extensions>=0.4.3 in c:\\users\\hari0\\.conda\\envs\\tensorflow\\lib\\site-packages (from black->ipython>=7.23.1->ipykernel->jupyter->tensorflow-object-detection-api) (0.4.3)\n",
      "Requirement already satisfied: typing-extensions>=3.10.0.0 in c:\\users\\hari0\\.conda\\envs\\tensorflow\\lib\\site-packages (from black->ipython>=7.23.1->ipykernel->jupyter->tensorflow-object-detection-api) (3.10.0.2)\n",
      "Requirement already satisfied: click>=7.1.2 in c:\\users\\hari0\\.conda\\envs\\tensorflow\\lib\\site-packages (from black->ipython>=7.23.1->ipykernel->jupyter->tensorflow-object-detection-api) (8.0.3)\n",
      "Requirement already satisfied: tomli<2.0.0,>=0.2.6 in c:\\users\\hari0\\.conda\\envs\\tensorflow\\lib\\site-packages (from black->ipython>=7.23.1->ipykernel->jupyter->tensorflow-object-detection-api) (1.2.3)\n",
      "Requirement already satisfied: widgetsnbextension~=3.5.0 in c:\\users\\hari0\\.conda\\envs\\tensorflow\\lib\\site-packages (from ipywidgets->jupyter->tensorflow-object-detection-api) (3.5.2)\n",
      "Requirement already satisfied: nbformat>=4.2.0 in c:\\users\\hari0\\.conda\\envs\\tensorflow\\lib\\site-packages (from ipywidgets->jupyter->tensorflow-object-detection-api) (5.1.3)\n",
      "Requirement already satisfied: ipython-genutils~=0.2.0 in c:\\users\\hari0\\.conda\\envs\\tensorflow\\lib\\site-packages (from ipywidgets->jupyter->tensorflow-object-detection-api) (0.2.0)\n",
      "Requirement already satisfied: jupyterlab-widgets>=1.0.0 in c:\\users\\hari0\\.conda\\envs\\tensorflow\\lib\\site-packages (from ipywidgets->jupyter->tensorflow-object-detection-api) (1.0.2)\n",
      "Requirement already satisfied: jsonschema!=2.5.0,>=2.4 in c:\\users\\hari0\\.conda\\envs\\tensorflow\\lib\\site-packages (from nbformat>=4.2.0->ipywidgets->jupyter->tensorflow-object-detection-api) (4.4.0)\n",
      "Requirement already satisfied: attrs>=17.4.0 in c:\\users\\hari0\\.conda\\envs\\tensorflow\\lib\\site-packages (from jsonschema!=2.5.0,>=2.4->nbformat>=4.2.0->ipywidgets->jupyter->tensorflow-object-detection-api) (21.4.0)\n",
      "Requirement already satisfied: pyrsistent!=0.17.0,!=0.17.1,!=0.17.2,>=0.14.0 in c:\\users\\hari0\\.conda\\envs\\tensorflow\\lib\\site-packages (from jsonschema!=2.5.0,>=2.4->nbformat>=4.2.0->ipywidgets->jupyter->tensorflow-object-detection-api) (0.18.1)\n",
      "Requirement already satisfied: argon2-cffi in c:\\users\\hari0\\.conda\\envs\\tensorflow\\lib\\site-packages (from notebook->jupyter->tensorflow-object-detection-api) (21.3.0)\n",
      "Requirement already satisfied: jinja2 in c:\\users\\hari0\\.conda\\envs\\tensorflow\\lib\\site-packages (from notebook->jupyter->tensorflow-object-detection-api) (3.0.3)\n",
      "Requirement already satisfied: terminado>=0.8.3 in c:\\users\\hari0\\.conda\\envs\\tensorflow\\lib\\site-packages (from notebook->jupyter->tensorflow-object-detection-api) (0.13.1)\n",
      "Requirement already satisfied: prometheus-client in c:\\users\\hari0\\.conda\\envs\\tensorflow\\lib\\site-packages (from notebook->jupyter->tensorflow-object-detection-api) (0.13.1)\n",
      "Requirement already satisfied: Send2Trash>=1.8.0 in c:\\users\\hari0\\.conda\\envs\\tensorflow\\lib\\site-packages (from notebook->jupyter->tensorflow-object-detection-api) (1.8.0)\n",
      "Requirement already satisfied: pywinpty>=1.1.0 in c:\\users\\hari0\\.conda\\envs\\tensorflow\\lib\\site-packages (from terminado>=0.8.3->notebook->jupyter->tensorflow-object-detection-api) (2.0.2)\n",
      "Requirement already satisfied: argon2-cffi-bindings in c:\\users\\hari0\\.conda\\envs\\tensorflow\\lib\\site-packages (from argon2-cffi->notebook->jupyter->tensorflow-object-detection-api) (21.2.0)\n",
      "Requirement already satisfied: cffi>=1.0.1 in c:\\users\\hari0\\.conda\\envs\\tensorflow\\lib\\site-packages (from argon2-cffi-bindings->argon2-cffi->notebook->jupyter->tensorflow-object-detection-api) (1.15.0)\n",
      "Requirement already satisfied: pycparser in c:\\users\\hari0\\.conda\\envs\\tensorflow\\lib\\site-packages (from cffi>=1.0.1->argon2-cffi-bindings->argon2-cffi->notebook->jupyter->tensorflow-object-detection-api) (2.21)\n",
      "Requirement already satisfied: MarkupSafe>=2.0 in c:\\users\\hari0\\.conda\\envs\\tensorflow\\lib\\site-packages (from jinja2->notebook->jupyter->tensorflow-object-detection-api) (2.0.1)\n",
      "Requirement already satisfied: pandocfilters>=1.4.1 in c:\\users\\hari0\\.conda\\envs\\tensorflow\\lib\\site-packages (from nbconvert->jupyter->tensorflow-object-detection-api) (1.5.0)\n",
      "Requirement already satisfied: defusedxml in c:\\users\\hari0\\.conda\\envs\\tensorflow\\lib\\site-packages (from nbconvert->jupyter->tensorflow-object-detection-api) (0.7.1)\n",
      "Requirement already satisfied: jupyterlab-pygments in c:\\users\\hari0\\.conda\\envs\\tensorflow\\lib\\site-packages (from nbconvert->jupyter->tensorflow-object-detection-api) (0.1.2)\n",
      "Requirement already satisfied: bleach in c:\\users\\hari0\\.conda\\envs\\tensorflow\\lib\\site-packages (from nbconvert->jupyter->tensorflow-object-detection-api) (4.1.0)\n",
      "Requirement already satisfied: testpath in c:\\users\\hari0\\.conda\\envs\\tensorflow\\lib\\site-packages (from nbconvert->jupyter->tensorflow-object-detection-api) (0.5.0)\n",
      "Requirement already satisfied: mistune<2,>=0.8.1 in c:\\users\\hari0\\.conda\\envs\\tensorflow\\lib\\site-packages (from nbconvert->jupyter->tensorflow-object-detection-api) (0.8.4)\n",
      "Requirement already satisfied: nbclient<0.6.0,>=0.5.0 in c:\\users\\hari0\\.conda\\envs\\tensorflow\\lib\\site-packages (from nbconvert->jupyter->tensorflow-object-detection-api) (0.5.10)\n",
      "Requirement already satisfied: webencodings in c:\\users\\hari0\\.conda\\envs\\tensorflow\\lib\\site-packages (from bleach->nbconvert->jupyter->tensorflow-object-detection-api) (0.5.1)\n",
      "Requirement already satisfied: qtpy in c:\\users\\hari0\\.conda\\envs\\tensorflow\\lib\\site-packages (from qtconsole->jupyter->tensorflow-object-detection-api) (2.0.1)\n",
      "Requirement already satisfied: executing in c:\\users\\hari0\\.conda\\envs\\tensorflow\\lib\\site-packages (from stack-data->ipython>=7.23.1->ipykernel->jupyter->tensorflow-object-detection-api) (0.8.2)\n",
      "Requirement already satisfied: pure-eval in c:\\users\\hari0\\.conda\\envs\\tensorflow\\lib\\site-packages (from stack-data->ipython>=7.23.1->ipykernel->jupyter->tensorflow-object-detection-api) (0.2.2)\n",
      "Requirement already satisfied: asttokens in c:\\users\\hari0\\.conda\\envs\\tensorflow\\lib\\site-packages (from stack-data->ipython>=7.23.1->ipykernel->jupyter->tensorflow-object-detection-api) (2.0.5)\n",
      "Requirement already satisfied: wrapt>=1.11.2 in c:\\users\\hari0\\appdata\\roaming\\python\\python39\\site-packages (from tensorflow->tensorflow-object-detection-api) (1.12.1)\n",
      "Requirement already satisfied: google-pasta~=0.2 in c:\\users\\hari0\\appdata\\roaming\\python\\python39\\site-packages (from tensorflow->tensorflow-object-detection-api) (0.2.0)\n",
      "Requirement already satisfied: absl-py~=0.10 in c:\\users\\hari0\\appdata\\roaming\\python\\python39\\site-packages (from tensorflow->tensorflow-object-detection-api) (0.14.1)\n",
      "Requirement already satisfied: termcolor>=1.1.0 in c:\\users\\hari0\\appdata\\roaming\\python\\python39\\site-packages (from tensorflow->tensorflow-object-detection-api) (1.1.0)\n",
      "Requirement already satisfied: flatbuffers~=1.12 in c:\\users\\hari0\\appdata\\roaming\\python\\python39\\site-packages (from tensorflow->tensorflow-object-detection-api) (1.12)\n",
      "Requirement already satisfied: astunparse~=1.6.3 in c:\\users\\hari0\\appdata\\roaming\\python\\python39\\site-packages (from tensorflow->tensorflow-object-detection-api) (1.6.3)\n",
      "Requirement already satisfied: opt-einsum~=3.3.0 in c:\\users\\hari0\\appdata\\roaming\\python\\python39\\site-packages (from tensorflow->tensorflow-object-detection-api) (3.3.0)\n",
      "Requirement already satisfied: gast==0.4.0 in c:\\users\\hari0\\appdata\\roaming\\python\\python39\\site-packages (from tensorflow->tensorflow-object-detection-api) (0.4.0)\n",
      "Requirement already satisfied: clang~=5.0 in c:\\users\\hari0\\appdata\\roaming\\python\\python39\\site-packages (from tensorflow->tensorflow-object-detection-api) (5.0)\n",
      "Requirement already satisfied: tensorflow-estimator~=2.6 in c:\\users\\hari0\\appdata\\roaming\\python\\python39\\site-packages (from tensorflow->tensorflow-object-detection-api) (2.6.0)\n",
      "Requirement already satisfied: h5py>=3.1.0 in c:\\users\\hari0\\appdata\\roaming\\python\\python39\\site-packages (from tensorflow->tensorflow-object-detection-api) (3.1.0)\n",
      "Requirement already satisfied: keras-preprocessing>=1.1.2 in c:\\users\\hari0\\appdata\\roaming\\python\\python39\\site-packages (from tensorflow->tensorflow-object-detection-api) (1.1.2)\n",
      "Requirement already satisfied: tensorboard~=2.6 in c:\\users\\hari0\\appdata\\roaming\\python\\python39\\site-packages (from tensorflow->tensorflow-object-detection-api) (2.7.0)\n",
      "Requirement already satisfied: keras>=2.4.0 in c:\\users\\hari0\\appdata\\roaming\\python\\python39\\site-packages (from tensorflow->tensorflow-object-detection-api) (2.6.0)\n",
      "Requirement already satisfied: grpcio<2.0,>=1.37.0 in c:\\users\\hari0\\appdata\\roaming\\python\\python39\\site-packages (from tensorflow->tensorflow-object-detection-api) (1.41.0)\n",
      "Requirement already satisfied: werkzeug>=0.11.15 in c:\\users\\hari0\\appdata\\roaming\\python\\python39\\site-packages (from tensorboard~=2.6->tensorflow->tensorflow-object-detection-api) (2.0.2)\n",
      "Requirement already satisfied: google-auth-oauthlib<0.5,>=0.4.1 in c:\\users\\hari0\\appdata\\roaming\\python\\python39\\site-packages (from tensorboard~=2.6->tensorflow->tensorflow-object-detection-api) (0.4.6)\n",
      "Requirement already satisfied: google-auth<3,>=1.6.3 in c:\\users\\hari0\\appdata\\roaming\\python\\python39\\site-packages (from tensorboard~=2.6->tensorflow->tensorflow-object-detection-api) (2.3.0)\n",
      "Requirement already satisfied: tensorboard-data-server<0.7.0,>=0.6.0 in c:\\users\\hari0\\appdata\\roaming\\python\\python39\\site-packages (from tensorboard~=2.6->tensorflow->tensorflow-object-detection-api) (0.6.1)\n",
      "Requirement already satisfied: markdown>=2.6.8 in c:\\users\\hari0\\appdata\\roaming\\python\\python39\\site-packages (from tensorboard~=2.6->tensorflow->tensorflow-object-detection-api) (3.3.4)\n",
      "Requirement already satisfied: requests<3,>=2.21.0 in c:\\users\\hari0\\appdata\\roaming\\python\\python39\\site-packages (from tensorboard~=2.6->tensorflow->tensorflow-object-detection-api) (2.26.0)\n",
      "Requirement already satisfied: tensorboard-plugin-wit>=1.6.0 in c:\\users\\hari0\\appdata\\roaming\\python\\python39\\site-packages (from tensorboard~=2.6->tensorflow->tensorflow-object-detection-api) (1.8.0)\n",
      "Requirement already satisfied: rsa<5,>=3.1.4 in c:\\users\\hari0\\.conda\\envs\\tensorflow\\lib\\site-packages (from google-auth<3,>=1.6.3->tensorboard~=2.6->tensorflow->tensorflow-object-detection-api) (4.7.2)\n",
      "Requirement already satisfied: pyasn1-modules>=0.2.1 in c:\\users\\hari0\\appdata\\roaming\\python\\python39\\site-packages (from google-auth<3,>=1.6.3->tensorboard~=2.6->tensorflow->tensorflow-object-detection-api) (0.2.8)\n",
      "Requirement already satisfied: cachetools<5.0,>=2.0.0 in c:\\users\\hari0\\appdata\\roaming\\python\\python39\\site-packages (from google-auth<3,>=1.6.3->tensorboard~=2.6->tensorflow->tensorflow-object-detection-api) (4.2.4)\n",
      "Requirement already satisfied: requests-oauthlib>=0.7.0 in c:\\users\\hari0\\appdata\\roaming\\python\\python39\\site-packages (from google-auth-oauthlib<0.5,>=0.4.1->tensorboard~=2.6->tensorflow->tensorflow-object-detection-api) (1.3.0)\n",
      "Requirement already satisfied: pyasn1<0.5.0,>=0.4.6 in c:\\users\\hari0\\.conda\\envs\\tensorflow\\lib\\site-packages (from pyasn1-modules>=0.2.1->google-auth<3,>=1.6.3->tensorboard~=2.6->tensorflow->tensorflow-object-detection-api) (0.4.8)\n",
      "Requirement already satisfied: urllib3<1.27,>=1.21.1 in c:\\users\\hari0\\.conda\\envs\\tensorflow\\lib\\site-packages (from requests<3,>=2.21.0->tensorboard~=2.6->tensorflow->tensorflow-object-detection-api) (1.26.8)\n",
      "Requirement already satisfied: certifi>=2017.4.17 in c:\\users\\hari0\\.conda\\envs\\tensorflow\\lib\\site-packages (from requests<3,>=2.21.0->tensorboard~=2.6->tensorflow->tensorflow-object-detection-api) (2021.10.8)\n",
      "Requirement already satisfied: idna<4,>=2.5 in c:\\users\\hari0\\.conda\\envs\\tensorflow\\lib\\site-packages (from requests<3,>=2.21.0->tensorboard~=2.6->tensorflow->tensorflow-object-detection-api) (3.3)\n",
      "Requirement already satisfied: charset-normalizer~=2.0.0 in c:\\users\\hari0\\.conda\\envs\\tensorflow\\lib\\site-packages (from requests<3,>=2.21.0->tensorboard~=2.6->tensorflow->tensorflow-object-detection-api) (2.0.4)\n",
      "Requirement already satisfied: oauthlib>=3.0.0 in c:\\users\\hari0\\appdata\\roaming\\python\\python39\\site-packages (from requests-oauthlib>=0.7.0->google-auth-oauthlib<0.5,>=0.4.1->tensorboard~=2.6->tensorflow->tensorflow-object-detection-api) (3.1.1)\n",
      "Requirement already satisfied: keyring>=15.1 in c:\\users\\hari0\\.conda\\envs\\tensorflow\\lib\\site-packages (from twine->tensorflow-object-detection-api) (23.5.0)\n",
      "Requirement already satisfied: readme-renderer>=21.0 in c:\\users\\hari0\\.conda\\envs\\tensorflow\\lib\\site-packages (from twine->tensorflow-object-detection-api) (32.0)\n",
      "Requirement already satisfied: tqdm>=4.14 in c:\\users\\hari0\\.conda\\envs\\tensorflow\\lib\\site-packages (from twine->tensorflow-object-detection-api) (4.62.3)\n",
      "Requirement already satisfied: rfc3986>=1.4.0 in c:\\users\\hari0\\.conda\\envs\\tensorflow\\lib\\site-packages (from twine->tensorflow-object-detection-api) (2.0.0)\n",
      "Requirement already satisfied: pkginfo>=1.8.1 in c:\\users\\hari0\\.conda\\envs\\tensorflow\\lib\\site-packages (from twine->tensorflow-object-detection-api) (1.8.2)\n",
      "Requirement already satisfied: importlib-metadata>=3.6 in c:\\users\\hari0\\.conda\\envs\\tensorflow\\lib\\site-packages (from twine->tensorflow-object-detection-api) (4.8.2)\n",
      "Requirement already satisfied: requests-toolbelt!=0.9.0,>=0.8.0 in c:\\users\\hari0\\.conda\\envs\\tensorflow\\lib\\site-packages (from twine->tensorflow-object-detection-api) (0.9.1)\n",
      "Requirement already satisfied: zipp>=0.5 in c:\\users\\hari0\\.conda\\envs\\tensorflow\\lib\\site-packages (from importlib-metadata>=3.6->twine->tensorflow-object-detection-api) (3.7.0)\n",
      "Requirement already satisfied: pywin32-ctypes!=0.1.0,!=0.1.1 in c:\\users\\hari0\\.conda\\envs\\tensorflow\\lib\\site-packages (from keyring>=15.1->twine->tensorflow-object-detection-api) (0.2.0)\n",
      "Requirement already satisfied: docutils>=0.13.1 in c:\\users\\hari0\\.conda\\envs\\tensorflow\\lib\\site-packages (from readme-renderer>=21.0->twine->tensorflow-object-detection-api) (0.18.1)\n"
     ]
    }
   ],
   "source": [
    "pip install tensorflow-object-detection-api"
   ]
  },
  {
   "cell_type": "code",
   "execution_count": 6,
   "metadata": {},
   "outputs": [
    {
     "name": "stdout",
     "output_type": "stream",
     "text": [
      "Requirement already satisfied: matplotlib-inline in c:\\users\\hari0\\appdata\\roaming\\python\\python39\\site-packages (0.1.3)\n",
      "Requirement already satisfied: traitlets in c:\\users\\hari0\\.conda\\envs\\tensorflow\\lib\\site-packages (from matplotlib-inline) (5.1.1)\n",
      "Note: you may need to restart the kernel to use updated packages.\n"
     ]
    }
   ],
   "source": [
    "pip install matplotlib-inline"
   ]
  },
  {
   "cell_type": "markdown",
   "metadata": {},
   "source": [
    "## Now what?\n",
    "You have successfully installed the dependency for this project (or I hope so), after this please start classifying image by running next notebook! *1. setup_dataset_dependency.ipynb*"
   ]
  }
 ],
 "metadata": {
  "kernelspec": {
   "display_name": "tensorflow",
   "language": "python",
   "name": "tensorflow"
  },
  "language_info": {
   "codemirror_mode": {
    "name": "ipython",
    "version": 3
   },
   "file_extension": ".py",
   "mimetype": "text/x-python",
   "name": "python",
   "nbconvert_exporter": "python",
   "pygments_lexer": "ipython3",
   "version": "3.9.7"
  }
 },
 "nbformat": 4,
 "nbformat_minor": 4
}
