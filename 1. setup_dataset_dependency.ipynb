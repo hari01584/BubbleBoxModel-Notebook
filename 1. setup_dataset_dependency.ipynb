{
 "cells": [
  {
   "cell_type": "markdown",
   "metadata": {},
   "source": [
    "# Setup Raw Dataset (from Kaggle)"
   ]
  },
  {
   "cell_type": "markdown",
   "metadata": {},
   "source": [
    "### Download data\n",
    "_Install opendatasets for kaggle download api_"
   ]
  },
  {
   "cell_type": "code",
   "execution_count": 4,
   "metadata": {},
   "outputs": [
    {
     "name": "stdout",
     "output_type": "stream",
     "text": [
      "Collecting opendatasets\n",
      "  Downloading opendatasets-0.1.20-py3-none-any.whl (14 kB)\n",
      "Requirement already satisfied: click in c:\\users\\hari0\\.conda\\envs\\tensorflow\\lib\\site-packages (from opendatasets) (8.0.3)\n",
      "Requirement already satisfied: tqdm in c:\\users\\hari0\\.conda\\envs\\tensorflow\\lib\\site-packages (from opendatasets) (4.62.3)\n",
      "Requirement already satisfied: kaggle in c:\\users\\hari0\\.conda\\envs\\tensorflow\\lib\\site-packages (from opendatasets) (1.5.12)\n",
      "Requirement already satisfied: colorama in c:\\users\\hari0\\.conda\\envs\\tensorflow\\lib\\site-packages (from click->opendatasets) (0.4.4)\n",
      "Requirement already satisfied: certifi in c:\\users\\hari0\\.conda\\envs\\tensorflow\\lib\\site-packages (from kaggle->opendatasets) (2021.10.8)\n",
      "Requirement already satisfied: urllib3 in c:\\users\\hari0\\.conda\\envs\\tensorflow\\lib\\site-packages (from kaggle->opendatasets) (1.26.8)\n",
      "Requirement already satisfied: requests in c:\\users\\hari0\\appdata\\roaming\\python\\python39\\site-packages (from kaggle->opendatasets) (2.26.0)\n",
      "Requirement already satisfied: six>=1.10 in c:\\users\\hari0\\appdata\\roaming\\python\\python39\\site-packages (from kaggle->opendatasets) (1.15.0)\n",
      "Requirement already satisfied: python-slugify in c:\\users\\hari0\\.conda\\envs\\tensorflow\\lib\\site-packages (from kaggle->opendatasets) (5.0.2)\n",
      "Requirement already satisfied: python-dateutil in c:\\users\\hari0\\.conda\\envs\\tensorflow\\lib\\site-packages (from kaggle->opendatasets) (2.8.2)\n",
      "Requirement already satisfied: text-unidecode>=1.3 in c:\\users\\hari0\\.conda\\envs\\tensorflow\\lib\\site-packages (from python-slugify->kaggle->opendatasets) (1.3)\n",
      "Requirement already satisfied: charset-normalizer~=2.0.0 in c:\\users\\hari0\\.conda\\envs\\tensorflow\\lib\\site-packages (from requests->kaggle->opendatasets) (2.0.4)\n",
      "Requirement already satisfied: idna<4,>=2.5 in c:\\users\\hari0\\.conda\\envs\\tensorflow\\lib\\site-packages (from requests->kaggle->opendatasets) (3.3)\n",
      "Installing collected packages: opendatasets\n",
      "Successfully installed opendatasets-0.1.20\n",
      "Note: you may need to restart the kernel to use updated packages.\n"
     ]
    }
   ],
   "source": [
    "pip install opendatasets"
   ]
  },
  {
   "cell_type": "markdown",
   "metadata": {},
   "source": [
    "\n",
    "_Download dataset from kaggle._ (please follow instructions to get your kaggle username and key for download"
   ]
  },
  {
   "cell_type": "code",
   "execution_count": 7,
   "metadata": {},
   "outputs": [
    {
     "name": "stdout",
     "output_type": "stream",
     "text": [
      "Please provide your Kaggle credentials to download this dataset. Learn more: http://bit.ly/kaggle-creds\n",
      "Your Kaggle username:"
     ]
    },
    {
     "name": "stdin",
     "output_type": "stream",
     "text": [
      "  mrviolet\n"
     ]
    },
    {
     "name": "stdout",
     "output_type": "stream",
     "text": [
      "Your Kaggle Key:"
     ]
    },
    {
     "name": "stdin",
     "output_type": "stream",
     "text": [
      "  ································\n"
     ]
    },
    {
     "name": "stdout",
     "output_type": "stream",
     "text": [
      "Downloading manga-panels-dataset-817-mangas.zip to .\\manga-panels-dataset-817-mangas\n"
     ]
    },
    {
     "name": "stderr",
     "output_type": "stream",
     "text": [
      "100%|█████████████████████████████████████████████████████████████████████████████| 6.43G/6.43G [12:42<00:00, 9.05MB/s]\n"
     ]
    },
    {
     "name": "stdout",
     "output_type": "stream",
     "text": [
      "\n"
     ]
    }
   ],
   "source": [
    "import opendatasets as od\n",
    "od.download(\"https://www.kaggle.com/mrviolet/manga-panels-dataset-817-mangas\")"
   ]
  },
  {
   "cell_type": "markdown",
   "metadata": {},
   "source": [
    "_Rename and copy dataset directory_"
   ]
  },
  {
   "cell_type": "code",
   "execution_count": 9,
   "metadata": {},
   "outputs": [
    {
     "name": "stderr",
     "output_type": "stream",
     "text": [
      "100%|████████████████████████████████████████████████████████████████████████████████| 816/816 [06:37<00:00,  2.05it/s]\n"
     ]
    }
   ],
   "source": [
    "import os, shutil\n",
    "from tqdm import tqdm\n",
    "\n",
    "def copytree(src, dst, symlinks=False, ignore=None):\n",
    "    for item in tqdm(os.listdir(src)):\n",
    "        s = os.path.join(src, item)\n",
    "        d = os.path.join(dst, item)\n",
    "        if os.path.isdir(s):\n",
    "            shutil.copytree(s, d, symlinks, ignore)\n",
    "        else:\n",
    "            shutil.copy2(s, d)\n",
    "\n",
    "copytree(\"./manga-panels-dataset-817-mangas/dataset/\", \"./dataset-raw\")"
   ]
  },
  {
   "cell_type": "markdown",
   "metadata": {},
   "source": [
    "#### Install useful required modules"
   ]
  },
  {
   "cell_type": "code",
   "execution_count": 1,
   "metadata": {},
   "outputs": [
    {
     "name": "stdout",
     "output_type": "stream",
     "text": [
      "Requirement already satisfied: opencv-python in c:\\users\\hari0\\.conda\\envs\\tensorflow\\lib\\site-packages (4.5.5.62)\n",
      "Requirement already satisfied: matplotlib in c:\\users\\hari0\\.conda\\envs\\tensorflow\\lib\\site-packages (3.5.1)\n",
      "Requirement already satisfied: numpy>=1.17.3 in c:\\users\\hari0\\appdata\\roaming\\python\\python39\\site-packages (from opencv-python) (1.19.5)\n",
      "Requirement already satisfied: cycler>=0.10 in c:\\users\\hari0\\.conda\\envs\\tensorflow\\lib\\site-packages (from matplotlib) (0.11.0)\n",
      "Requirement already satisfied: fonttools>=4.22.0 in c:\\users\\hari0\\.conda\\envs\\tensorflow\\lib\\site-packages (from matplotlib) (4.29.1)\n",
      "Requirement already satisfied: packaging>=20.0 in c:\\users\\hari0\\.conda\\envs\\tensorflow\\lib\\site-packages (from matplotlib) (21.3)\n",
      "Requirement already satisfied: pillow>=6.2.0 in c:\\users\\hari0\\.conda\\envs\\tensorflow\\lib\\site-packages (from matplotlib) (9.0.1)\n",
      "Requirement already satisfied: kiwisolver>=1.0.1 in c:\\users\\hari0\\.conda\\envs\\tensorflow\\lib\\site-packages (from matplotlib) (1.3.2)\n",
      "Requirement already satisfied: python-dateutil>=2.7 in c:\\users\\hari0\\.conda\\envs\\tensorflow\\lib\\site-packages (from matplotlib) (2.8.2)\n",
      "Requirement already satisfied: pyparsing>=2.2.1 in c:\\users\\hari0\\.conda\\envs\\tensorflow\\lib\\site-packages (from matplotlib) (3.0.7)\n",
      "Requirement already satisfied: six>=1.5 in c:\\users\\hari0\\appdata\\roaming\\python\\python39\\site-packages (from python-dateutil>=2.7->matplotlib) (1.15.0)\n",
      "Note: you may need to restart the kernel to use updated packages.\n"
     ]
    }
   ],
   "source": [
    "pip install opencv-python matplotlib"
   ]
  },
  {
   "cell_type": "code",
   "execution_count": 26,
   "metadata": {},
   "outputs": [
    {
     "name": "stdout",
     "output_type": "stream",
     "text": [
      "Requirement already satisfied: pascal-voc-writer in c:\\users\\hari0\\.conda\\envs\\tensorflow\\lib\\site-packages (0.1.4)\n",
      "Requirement already satisfied: jinja2 in c:\\users\\hari0\\.conda\\envs\\tensorflow\\lib\\site-packages (from pascal-voc-writer) (3.0.3)\n",
      "Requirement already satisfied: MarkupSafe>=2.0 in c:\\users\\hari0\\.conda\\envs\\tensorflow\\lib\\site-packages (from jinja2->pascal-voc-writer) (2.0.1)\n",
      "Note: you may need to restart the kernel to use updated packages.\n"
     ]
    }
   ],
   "source": [
    "pip install pascal-voc-writer"
   ]
  },
  {
   "cell_type": "markdown",
   "metadata": {},
   "source": [
    "## Now what?\n",
    "You have successfully installed the dependency for this project (or I hope so), after this please start classifying image by running next notebook! *1. setup_dataset_dependency.ipynb*"
   ]
  }
 ],
 "metadata": {
  "kernelspec": {
   "display_name": "tensorflow",
   "language": "python",
   "name": "tensorflow"
  },
  "language_info": {
   "codemirror_mode": {
    "name": "ipython",
    "version": 3
   },
   "file_extension": ".py",
   "mimetype": "text/x-python",
   "name": "python",
   "nbconvert_exporter": "python",
   "pygments_lexer": "ipython3",
   "version": "3.9.7"
  }
 },
 "nbformat": 4,
 "nbformat_minor": 4
}
