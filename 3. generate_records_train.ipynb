{
 "cells": [
  {
   "cell_type": "markdown",
   "metadata": {},
   "source": [
    "# Generate tensorflow records and train!\n",
    "_Generate tf_record from all the annotations and train them!_"
   ]
  },
  {
   "cell_type": "markdown",
   "metadata": {},
   "source": [
    "_Define const_"
   ]
  },
  {
   "cell_type": "code",
   "execution_count": null,
   "metadata": {},
   "outputs": [],
   "source": [
    "DATASET_SAMPLING = \"dataset-sampling\"\n",
    "INPUT_CSV_FILE = \"csv_labels_test.csv\"\n",
    "OUTPUT_RECORD = \"tf_record_test.record\""
   ]
  },
  {
   "cell_type": "markdown",
   "metadata": {},
   "source": [
    "## Generate record file"
   ]
  },
  {
   "cell_type": "markdown",
   "metadata": {},
   "source": [
    "_Generate csv from all annotations_"
   ]
  },
  {
   "cell_type": "code",
   "execution_count": 2,
   "metadata": {},
   "outputs": [
    {
     "name": "stdout",
     "output_type": "stream",
     "text": [
      "Successfully converted xml to csv.\n"
     ]
    }
   ],
   "source": [
    "import os\n",
    "import glob\n",
    "import pandas as pd\n",
    "import xml.etree.ElementTree as ET\n",
    "\n",
    "def xml_to_csv(path):\n",
    "    xml_list = []\n",
    "    for xml_file in glob.glob(path + '/*.xml'):\n",
    "        tree = ET.parse(xml_file)\n",
    "        root = tree.getroot()\n",
    "        for member in root.findall('object'):\n",
    "            value = (root.find('filename').text,\n",
    "                     int(root.find('size')[0].text),\n",
    "                     int(root.find('size')[1].text),\n",
    "                     member[0].text,\n",
    "                     int(member[4][0].text),\n",
    "                     int(member[4][1].text),\n",
    "                     int(member[4][2].text),\n",
    "                     int(member[4][3].text)\n",
    "                     )\n",
    "            xml_list.append(value)\n",
    "    column_name = ['filename', 'width', 'height', 'class', 'xmin', 'ymin', 'xmax', 'ymax']\n",
    "    xml_df = pd.DataFrame(xml_list, columns=column_name)\n",
    "    return xml_df\n",
    "\n",
    "\n",
    "annot_path = os.path.join(DATASET_SAMPLING, 'annotations')\n",
    "xml_df = xml_to_csv(annot_path)\n",
    "\n",
    "labelDir = os.path.join(DATASET_SAMPLING, \"labels\")\n",
    "os.makedirs(labelDir, exist_ok=True)\n",
    "\n",
    "xml_df.to_csv(os.path.join(labelDir, INPUT_CSV_FILE), index=None)\n",
    "print('Successfully converted xml to csv.')"
   ]
  },
  {
   "cell_type": "markdown",
   "metadata": {},
   "source": [
    "_Convert csv labels to tensorflow record_"
   ]
  },
  {
   "cell_type": "code",
   "execution_count": 3,
   "metadata": {},
   "outputs": [
    {
     "name": "stdout",
     "output_type": "stream",
     "text": [
      "\n",
      "Usage:\n",
      "  # From tensorflow/models/\n",
      "  # Create train data:\n",
      "  python generate_tfrecord.py --csv_input=data/train_labels.csv  --output_path=train.record\n",
      "  # Create test data:\n",
      "  python generate_tfrecord.py --csv_input=data/test_labels.csv  --output_path=test.record\n",
      "\n",
      "flags:\n",
      "\n",
      "./scripts/generate_tfrecord.py:\n",
      "  --csv_input: Path to the CSV input\n",
      "    (default: '')\n",
      "  --image_dir: Path to images\n",
      "    (default: '')\n",
      "  --output_path: Path to output TFRecord\n",
      "    (default: '')\n",
      "\n",
      "Try --helpfull to get a list of all flags.\n"
     ]
    }
   ],
   "source": [
    "!python ./scripts/generate_tfrecord.py --help"
   ]
  },
  {
   "cell_type": "markdown",
   "metadata": {},
   "source": [
    "_finally execute script__"
   ]
  },
  {
   "cell_type": "code",
   "execution_count": 4,
   "metadata": {},
   "outputs": [
    {
     "name": "stderr",
     "output_type": "stream",
     "text": [
      "C:\\ProgramData\\Anaconda3\\lib\\site-packages\\PIL\\Image.py:2942: UserWarning: image file could not be identified because WEBP support not installed\n",
      "  warnings.warn(message)\n",
      "Traceback (most recent call last):\n",
      "  File \"./scripts/generate_tfrecord.py\", line 99, in <module>\n",
      "    tf.app.run()\n",
      "  File \"C:\\Users\\hari0\\AppData\\Roaming\\Python\\Python38\\site-packages\\tensorflow\\python\\platform\\app.py\", line 36, in run\n",
      "    _run(main=main, argv=argv, flags_parser=_parse_flags_tolerate_undef)\n",
      "  File \"C:\\ProgramData\\Anaconda3\\lib\\site-packages\\absl\\app.py\", line 303, in run\n",
      "    _run_main(main, args)\n",
      "  File \"C:\\ProgramData\\Anaconda3\\lib\\site-packages\\absl\\app.py\", line 251, in _run_main\n",
      "    sys.exit(main(argv))\n",
      "  File \"./scripts/generate_tfrecord.py\", line 90, in main\n",
      "    tf_example = create_tf_example(group, path)\n",
      "  File \"./scripts/generate_tfrecord.py\", line 47, in create_tf_example\n",
      "    image = Image.open(encoded_jpg_io)\n",
      "  File \"C:\\ProgramData\\Anaconda3\\lib\\site-packages\\PIL\\Image.py\", line 2943, in open\n",
      "    raise UnidentifiedImageError(\n",
      "PIL.UnidentifiedImageError: cannot identify image file <_io.BytesIO object at 0x000001FFA3C55400>\n"
     ]
    }
   ],
   "source": [
    "CSV_FILE = os.path.join(labelDir, INPUT_CSV_FILE)\n",
    "IMG_DIR = os.path.join(DATASET_SAMPLING, 'images')\n",
    "OUT_REC = os.path.join(DATASET_SAMPLING, OUTPUT_RECORD)\n",
    "!python ./scripts/generate_tfrecord.py --csv_input=$CSV_FILE --image_dir=$IMG_DIR --output_path=$OUT_REC"
   ]
  },
  {
   "cell_type": "markdown",
   "metadata": {},
   "source": [
    "## What next?\n",
    "_Congratulations! You have successfully generated records for training your model!! for further training it please refer to next jupyter book :)_"
   ]
  }
 ],
 "metadata": {
  "kernelspec": {
   "display_name": "tensorflow",
   "language": "python",
   "name": "tensorflow"
  },
  "language_info": {
   "codemirror_mode": {
    "name": "ipython",
    "version": 3
   },
   "file_extension": ".py",
   "mimetype": "text/x-python",
   "name": "python",
   "nbconvert_exporter": "python",
   "pygments_lexer": "ipython3",
   "version": "3.9.7"
  }
 },
 "nbformat": 4,
 "nbformat_minor": 4
}
