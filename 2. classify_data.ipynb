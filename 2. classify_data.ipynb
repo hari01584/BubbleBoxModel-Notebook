{
 "cells": [
  {
   "cell_type": "markdown",
   "metadata": {},
   "source": [
    "# Classify/annotate data (ie draw bounding box)!\n",
    "\n",
    "__After defination of some common functions (for ex sampling database), We can use two ways to classify image, One is semi automatic and another is full automatic! Select your required option while running code :)__"
   ]
  },
  {
   "cell_type": "markdown",
   "metadata": {},
   "source": [
    "__Define variables__"
   ]
  },
  {
   "cell_type": "code",
   "execution_count": 1,
   "metadata": {},
   "outputs": [],
   "source": [
    "DATASET_PATH = \"dataset-raw\"\n",
    "DATASET_SAMPLING = \"dataset-sampling\"\n",
    "HEIGHT_CV2_IMAGE_RESIZE = 720"
   ]
  },
  {
   "cell_type": "markdown",
   "metadata": {},
   "source": [
    "#### Some Important Functions"
   ]
  },
  {
   "cell_type": "markdown",
   "metadata": {},
   "source": [
    "_Choice from user_"
   ]
  },
  {
   "cell_type": "code",
   "execution_count": 2,
   "metadata": {},
   "outputs": [],
   "source": [
    "def get_choice(n):\n",
    "    # Get choice from user\n",
    "    try:\n",
    "        val = int(input(\"Choose an option [0-%d]: \"%(n-1, )))\n",
    "        if val < 0 or val > n:\n",
    "            raise ValueError\n",
    "        return val\n",
    "    except ValueError:\n",
    "        print(\"Invalid option, Choose again \")\n",
    "        return get_choice(n)\n",
    "    \n",
    "def choose(options):\n",
    "    for i in range(len(options)):\n",
    "        print(\"[%d] %s\"%(i, options[i]))\n",
    "    index = get_choice(len(options))\n",
    "    return index"
   ]
  },
  {
   "cell_type": "markdown",
   "metadata": {},
   "source": [
    "_Get random image from our dataset_"
   ]
  },
  {
   "cell_type": "code",
   "execution_count": 3,
   "metadata": {},
   "outputs": [],
   "source": [
    "import os, random\n",
    "def datasetImage():\n",
    "    root = DATASET_PATH\n",
    "    folders = random.sample(os.listdir(root), 1)\n",
    "    for folder in folders:\n",
    "        b = os.path.join(root, folder)\n",
    "        f = random.choice(os.listdir(b))\n",
    "        ff = os.path.join(b, f)\n",
    "        print(ff)\n",
    "        return ff"
   ]
  },
  {
   "cell_type": "markdown",
   "metadata": {},
   "source": [
    "_Skip execution of cell_"
   ]
  },
  {
   "cell_type": "code",
   "execution_count": 4,
   "metadata": {},
   "outputs": [],
   "source": [
    "class SkipExecution(Exception):\n",
    "    def _render_traceback_(self):\n",
    "        print(\"this cell has been skipped\")"
   ]
  },
  {
   "cell_type": "markdown",
   "metadata": {},
   "source": [
    "_Image transformations and Common operations (opencv and numpy)_"
   ]
  },
  {
   "cell_type": "code",
   "execution_count": 5,
   "metadata": {},
   "outputs": [],
   "source": [
    "import cv2\n",
    "import numpy as np\n",
    "\n",
    "# get grayscale image\n",
    "def get_grayscale(image):\n",
    "    return cv2.cvtColor(image, cv2.COLOR_BGR2GRAY)\n",
    "\n",
    "# noise removal\n",
    "def remove_noise(image):\n",
    "    return cv2.medianBlur(image,5)\n",
    " \n",
    "#thresholding\n",
    "def thresholding(image):\n",
    "    return cv2.threshold(image, 0, 255, cv2.THRESH_BINARY + cv2.THRESH_OTSU)[1]\n",
    "\n",
    "#dilation\n",
    "def dilate(image):\n",
    "    kernel = np.ones((5,5),np.uint8)\n",
    "    return cv2.dilate(image, kernel, iterations = 1)\n",
    "    \n",
    "#erosion\n",
    "def erode(image):\n",
    "    kernel = np.ones((5,5),np.uint8)\n",
    "    return cv2.erode(image, kernel, iterations = 1)\n",
    "\n",
    "#opening - erosion followed by dilation\n",
    "def opening(image):\n",
    "    kernel = np.ones((5,5),np.uint8)\n",
    "    return cv2.morphologyEx(image, cv2.MORPH_OPEN, kernel)\n",
    "\n",
    "#canny edge detection\n",
    "def canny(image):\n",
    "    return cv2.Canny(image, 100, 200)\n",
    "\n",
    "#skew correction\n",
    "def deskew(image):\n",
    "    coords = np.column_stack(np.where(image > 0))\n",
    "    angle = cv2.minAreaRect(coords)[-1]\n",
    "    if angle < -45:\n",
    "        angle = -(90 + angle)\n",
    "    else:\n",
    "        angle = -angle\n",
    "    (h, w) = image.shape[:2]\n",
    "    center = (w // 2, h // 2)\n",
    "    M = cv2.getRotationMatrix2D(center, angle, 1.0)\n",
    "    rotated = cv2.warpAffine(image, M, (w, h), flags=cv2.INTER_CUBIC, borderMode=cv2.BORDER_REPLICATE)\n",
    "    return rotated\n",
    "\n",
    "#template matching\n",
    "def match_template(image, template):\n",
    "    return cv2.matchTemplate(image, template, cv2.TM_CCOEFF_NORMED)\n",
    "\n",
    "def cv_imread(file_path):\n",
    "    # Load image https://stackoverflow.com/a/54491104/4555317\n",
    "    cv_img = cv2.imdecode(np.fromfile(file_path, dtype=np.uint8), 1)\n",
    "    return cv_img\n",
    "\n",
    "def ResizeWithAspectRatio(image, width=None, height=None, inter=cv2.INTER_AREA):\n",
    "    # stackoverflow copied resize cv2 image\n",
    "    dim = None\n",
    "    (h, w) = image.shape[:2]\n",
    "\n",
    "    if width is None and height is None:\n",
    "        return image\n",
    "    if width is None:\n",
    "        r = height / float(h)\n",
    "        dim = (int(w * r), height)\n",
    "    else:\n",
    "        r = width / float(w)\n",
    "        dim = (width, int(h * r))\n",
    "\n",
    "    return cv2.resize(image, dim, interpolation=inter)\n",
    "\n",
    "def quickShow(wt, img):\n",
    "    resize = ResizeWithAspectRatio(img, height=HEIGHT_CV2_IMAGE_RESIZE)\n",
    "    cv2.imshow(wt, resize)"
   ]
  },
  {
   "cell_type": "markdown",
   "metadata": {},
   "source": [
    "---"
   ]
  },
  {
   "cell_type": "markdown",
   "metadata": {},
   "source": [
    "_Input method to classify images_"
   ]
  },
  {
   "cell_type": "code",
   "execution_count": 6,
   "metadata": {},
   "outputs": [
    {
     "name": "stdout",
     "output_type": "stream",
     "text": [
      "[0] Semi Automatic (Click on white areas of speech bubble)\n",
      "[1] Automatic (Using tensorflow text detection and inpainting)\n"
     ]
    },
    {
     "name": "stdin",
     "output_type": "stream",
     "text": [
      "Choose an option [0-1]:  0\n"
     ]
    }
   ],
   "source": [
    "classify_method = choose([\"Semi Automatic (Click on white areas of speech bubble)\", \"Automatic (Using tensorflow text detection and inpainting)\"])"
   ]
  },
  {
   "cell_type": "markdown",
   "metadata": {},
   "source": [
    "### Manual (Semi Automatic)"
   ]
  },
  {
   "cell_type": "markdown",
   "metadata": {},
   "source": [
    "_Semi automatic image detection, here you just click on each bubbles in manga image and it automatically tries to detect valid rectangle box around it, note that this might not work all the time and the specific instructions are below!_"
   ]
  },
  {
   "cell_type": "markdown",
   "metadata": {},
   "source": [
    "_Store output data here_"
   ]
  },
  {
   "cell_type": "code",
   "execution_count": 7,
   "metadata": {},
   "outputs": [],
   "source": [
    "if(classify_method != 0): raise SkipExecution\n",
    "SEGMENTS_RECTANGLE = []"
   ]
  },
  {
   "cell_type": "markdown",
   "metadata": {},
   "source": [
    "_Some more functions! (to calculate max rectangle and apply firedraw algorithm)_"
   ]
  },
  {
   "cell_type": "code",
   "execution_count": 8,
   "metadata": {},
   "outputs": [],
   "source": [
    "if(classify_method != 0): raise SkipExecution\n",
    "def get_biggest_cont(img, out):\n",
    "    edges = cv2.Canny(img,100,200)\n",
    "    contours, hierarchy = cv2.findContours(edges,cv2.RETR_TREE,cv2.CHAIN_APPROX_NONE)\n",
    "    contour = max(contours, key = len)\n",
    "    contourImg = cv2.drawContours(out, [contour], -1, 255, 3) \n",
    "    return contourImg\n",
    "\n",
    "def findMaxRect(mask, drawimg):\n",
    "    contours, hierarchy = cv2.findContours(mask, cv2.RETR_LIST, cv2.CHAIN_APPROX_NONE)\n",
    "    max_x, max_y, min_x, min_y = -1, -1, 10000, 10000\n",
    "    for c in contours:\n",
    "        x,y,w,h = cv2.boundingRect(c)\n",
    "        if(x == 0 or y == 0): continue\n",
    "        max_x = max(x+w, max_x)\n",
    "        max_y = max(y+h, max_y)\n",
    "        min_x = min(x, min_x)\n",
    "        min_y = min(y, min_y)\n",
    "\n",
    "    mask = cv2.rectangle(drawimg, (min_x, min_y), (max_x, max_y), 127, 5)\n",
    "    # return (min_x, min_y, max_x - min_x, max_y - min_y)\n",
    "    return (min_x, min_y, max_x, max_y)\n",
    "\n",
    "def firedraw(img, pixel):\n",
    "    x, y = pixel\n",
    "    (h, w) = img.shape[:2]\n",
    "    mask = np.zeros((h+2,w+2),np.uint8)\n",
    "    floodflags = 4\n",
    "    floodflags |= cv2.FLOODFILL_MASK_ONLY\n",
    "    floodflags |= (255 << 8)\n",
    "    num,im,mask,rect = cv2.floodFill(img, mask, (x, y), 127, (100,)*3, (100,)*3, floodflags)\n",
    "    return mask\n",
    "\n",
    "def reconstructFromRect():\n",
    "    global pimg, SEGMENTS_RECTANGLE\n",
    "    img = pimg.copy()\n",
    "    for r in SEGMENTS_RECTANGLE:\n",
    "        img = cv2.rectangle(img, (r[0], r[1]), (r[2], r[3]), 127, 5)\n",
    "    return img"
   ]
  },
  {
   "cell_type": "markdown",
   "metadata": {},
   "source": [
    "_Define click events_"
   ]
  },
  {
   "cell_type": "code",
   "execution_count": 9,
   "metadata": {},
   "outputs": [],
   "source": [
    "if(classify_method != 0): raise SkipExecution\n",
    "def click_event(event, x, y, flags, params):\n",
    "    global img\n",
    "    if event == cv2.EVENT_LBUTTONDOWN:\n",
    "        (h, w) = img.shape[:2]\n",
    "        scale = h / HEIGHT_CV2_IMAGE_RESIZE\n",
    "        x = int(x * scale)\n",
    "        y = int(y * scale)\n",
    "        \n",
    "        dilated_img = erode(img)\n",
    "        mask = firedraw(dilated_img, (x, y))\n",
    "        boundary = np.zeros((h+2,w+2),np.uint8)\n",
    "        contour = get_biggest_cont(mask,boundary)\n",
    "\n",
    "        rect = findMaxRect(mask, img)\n",
    "        quickShow('image', img)\n",
    "        SEGMENTS_RECTANGLE.append(rect)\n",
    "    elif event == cv2.EVENT_RBUTTONDOWN:\n",
    "        SEGMENTS_RECTANGLE.pop()\n",
    "        img = reconstructFromRect()\n",
    "        quickShow('image', img)"
   ]
  },
  {
   "cell_type": "markdown",
   "metadata": {},
   "source": [
    "_Save as Pascal VOC XML format_"
   ]
  },
  {
   "cell_type": "code",
   "execution_count": 10,
   "metadata": {},
   "outputs": [],
   "source": [
    "if(classify_method != 0): raise SkipExecution\n",
    "from pascal_voc_writer import Writer\n",
    "import os, shutil\n",
    "import hashlib\n",
    "\n",
    "def save_annotations_data(img_path):\n",
    "    global SEGMENTS_RECTANGLE, img\n",
    "    rootAnnotation = os.path.join(DATASET_SAMPLING, \"annotations\")\n",
    "    rootImgdir = os.path.join(DATASET_SAMPLING, \"images\")\n",
    "    os.makedirs(rootAnnotation, exist_ok=True)\n",
    "    os.makedirs(rootImgdir, exist_ok=True)\n",
    "\n",
    "    hsh = hashlib.md5(img_path.encode('utf-8')).hexdigest()\n",
    "    fn, fe = os.path.splitext(img_path)\n",
    "    \n",
    "    dest_fpath = os.path.join(rootImgdir, hsh+fe)\n",
    "    shutil.copyfile(img_path, dest_fpath)\n",
    "    \n",
    "    (h, w) = img.shape[:2]\n",
    "    writer = Writer(dest_fpath, w, h)\n",
    "    for box in SEGMENTS_RECTANGLE:\n",
    "        writer.addObject('bubble', box[0], box[1], box[2], box[3])\n",
    "    writer.save(os.path.join(rootAnnotation, hsh+\".xml\"))\n",
    "    \n",
    "    SEGMENTS_RECTANGLE = []\n",
    "    print(\"saved:\", hsh)"
   ]
  },
  {
   "cell_type": "markdown",
   "metadata": {},
   "source": [
    "_Motor code_"
   ]
  },
  {
   "cell_type": "code",
   "execution_count": 11,
   "metadata": {},
   "outputs": [],
   "source": [
    "if(classify_method != 0): raise SkipExecution\n",
    "def execute_semi_automatic():\n",
    "    global img, pimg\n",
    "    IMAGE_PATH = datasetImage()\n",
    "    img = cv_imread(IMAGE_PATH)\n",
    "    img = cv2.cvtColor(img, cv2.COLOR_BGR2GRAY)\n",
    "    thres, img = cv2.threshold(img, 0, 255, cv2.THRESH_BINARY + cv2.THRESH_OTSU)\n",
    "    pimg = img.copy()\n",
    "    quickShow('image', img)\n",
    "    \n",
    "    cv2.setMouseCallback('image', click_event)\n",
    "    cv2.waitKey(0)\n",
    "    cv2.destroyAllWindows()\n",
    "    save_annotations_data(IMAGE_PATH)"
   ]
  },
  {
   "cell_type": "markdown",
   "metadata": {},
   "source": [
    "_classify as much image you want :o_"
   ]
  },
  {
   "cell_type": "code",
   "execution_count": 12,
   "metadata": {},
   "outputs": [
    {
     "name": "stdout",
     "output_type": "stream",
     "text": [
      "dataset-raw\\Tanuki\\chapter-15.5_5.jpg\n",
      "saved: 8b94d1b3a275efc58d30e10160f52324\n",
      "dataset-raw\\Sijin\\chapter-205.5_19.jpg\n",
      "saved: 33a210c2a90a015cc9760daea5906840\n",
      "dataset-raw\\Elskar\\chapter-76_11.jpg\n",
      "saved: 21f6806a06ee75e85dddf7cfb2ab8d28\n",
      "dataset-raw\\How To Take Off A Wedding Dress\\chapter-13_23.jpg\n",
      "saved: 276a1ffce934464a20dd56204f1672e4\n",
      "dataset-raw\\The Devil's Temptation\\chapter-44_24.jpg\n",
      "saved: c6004326ac10d3ba8cbbf96ed833f2c7\n",
      "dataset-raw\\Yashio To Mikumo\\chapter-7_29.jpg\n",
      "saved: 4a0efc4dddb76dc291d96aa1cae40cdd\n",
      "dataset-raw\\Pretty Peasant Girl\\chapter-70_10.jpg\n",
      "saved: e6e289d4eaadd51bef2b5c777fadece0\n",
      "dataset-raw\\Senpai Ga Oyobidesu!\\chapter-26_6.jpg\n",
      "saved: c94b9de0010719ec262f008b23d1826c\n",
      "dataset-raw\\A Way To Protect The Lovable You\\chapter-52_1.jpg\n",
      "saved: ee3fe4ccd9369741177d0ffe2fe2058f\n",
      "dataset-raw\\Rebirth Of Legendary Doctor\\chapter-133_5.jpg\n",
      "saved: 9572fe6019cb4dc29cb02447f9cdef7c\n",
      "dataset-raw\\The Strongest Ever\\chapter-61_51.jpg\n",
      "saved: c78eab6b8e2cddfed80bbc50c4bcafce\n",
      "dataset-raw\\Herscherik R - The Epic Of The Reincarnated Prince\\chapter-4_4.jpg\n",
      "saved: 948b8cfb108da0bcfbfd9fc3dafe3867\n",
      "dataset-raw\\Hanaukyo Maid Tai\\chapter-51_9.jpg\n",
      "saved: 08b589d596b4da90eaa468191d12805f\n",
      "dataset-raw\\Spirit Sword Sovereign\\chapter-468_3.jpg\n",
      "saved: 1b58fd939b3fdd35a097df2d9410cf17\n",
      "dataset-raw\\I Would Die To Have Your First Time\\chapter-62.5_8.jpg\n",
      "saved: 8648b7c6660c4b5c646317f6ed345b55\n",
      "dataset-raw\\The Superb Captain In The City\\chapter-295_4.jpg\n",
      "saved: 7c4f6b7dfb245f04ed75ba62b2d22f0f\n",
      "dataset-raw\\From Points Of Three\\chapter-80_22.jpg\n",
      "saved: f8663405b459d4e2b74e5b6fc9804eaf\n",
      "dataset-raw\\S Rank Boukensha De Aru Ore No Musume-Tachi Wa Juudo No Father Con Deshita\\chapter-17_15.jpg\n",
      "saved: 8df00be03f0be8e0e26b20c33f1236b5\n",
      "dataset-raw\\Xx Gobusata Sotsugyou Shimasu\\chapter-86_7.jpg\n",
      "saved: 9dda2af36056a4c2ca951084d23ecb4b\n",
      "dataset-raw\\One Take\\chapter-44.2_27.jpg\n",
      "saved: 109895d2b2298ec59cd101d1180636df\n"
     ]
    }
   ],
   "source": [
    "if(classify_method != 0): raise SkipExecution\n",
    "NUM_SAMPLES = int(input(\"Enter number of samples you want to take: \"))\n",
    "for i in range(NUM_SAMPLES):\n",
    "    execute_semi_automatic()"
   ]
  },
  {
   "cell_type": "markdown",
   "metadata": {},
   "source": [
    "### Automatic (Full Automatic)"
   ]
  },
  {
   "cell_type": "markdown",
   "metadata": {},
   "source": [
    "_Using tensorflow to detect text, inpaint it and use coordinates to effectively guess all the chatboxes, please note this might not be that accurate so you have been warned :) (plus its also slow)_"
   ]
  },
  {
   "cell_type": "code",
   "execution_count": null,
   "metadata": {},
   "outputs": [],
   "source": [
    "if(classify_method != 1): raise SkipExecution\n",
    "print(\"Under development\")"
   ]
  },
  {
   "cell_type": "markdown",
   "metadata": {},
   "source": [
    "## What after this?\n",
    "After classifying a good number of samples, you need to convert them to tf_record files (for training etc), thus using the pascal xml and image files you can generate tf_record! for further steps please check next notebook :)"
   ]
  }
 ],
 "metadata": {
  "kernelspec": {
   "display_name": "tensorflow",
   "language": "python",
   "name": "tensorflow"
  },
  "language_info": {
   "codemirror_mode": {
    "name": "ipython",
    "version": 3
   },
   "file_extension": ".py",
   "mimetype": "text/x-python",
   "name": "python",
   "nbconvert_exporter": "python",
   "pygments_lexer": "ipython3",
   "version": "3.9.7"
  }
 },
 "nbformat": 4,
 "nbformat_minor": 4
}
