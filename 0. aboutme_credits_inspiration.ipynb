{
 "cells": [
  {
   "cell_type": "markdown",
   "metadata": {},
   "source": [
    "## ABOUT ME\n",
    "Just a simple enthusiast tryna make something!\n",
    "\n",
    "_This project was meant to simplify the reading experience of manga/manhwa/webtoon readers! I was inspired to do this after seeing a fellow friend(credit below) showing demo of google play books and it's experimental bubble zoom feature!_\n",
    "\n",
    "__Whoami?__\n",
    "A simple developer and anime/manga weeb! Contact me using:  \n",
    "Discord - [Agent_Orange#9852](https://discordapp.com/users/364288119345905664)  \n",
    "Email - [hari01584@gmail.com](mailto:hari01584@gmail.com)  \n",
    "\n",
    "Now comes most important part! _Credits_\n",
    "\n",
    "## Credits\n",
    "_Kudos to these people/projects/tutorials/resource/etc for being a great help!_\n",
    "- Varenyam for original idea - [his github profile](https://github.com/airpods69)\n",
    "- Raccoon project and its dataset scripts - [blog link](https://towardsdatascience.com/how-to-train-your-own-object-detector-with-tensorflows-object-detector-api-bec72ecfe1d9)\n",
    "- https://pythonprogramming.net/creating-tfrecord-files-tensorflow-object-detection-api-tutorial/\n",
    "- https://tensorflow-object-detection-api-tutorial.readthedocs.io/\n",
    "- __MANY MORE TO BE ADDED LATER__"
   ]
  }
 ],
 "metadata": {
  "kernelspec": {
   "display_name": "tensorflow",
   "language": "python",
   "name": "tensorflow"
  },
  "language_info": {
   "codemirror_mode": {
    "name": "ipython",
    "version": 3
   },
   "file_extension": ".py",
   "mimetype": "text/x-python",
   "name": "python",
   "nbconvert_exporter": "python",
   "pygments_lexer": "ipython3",
   "version": "3.9.7"
  }
 },
 "nbformat": 4,
 "nbformat_minor": 4
}
